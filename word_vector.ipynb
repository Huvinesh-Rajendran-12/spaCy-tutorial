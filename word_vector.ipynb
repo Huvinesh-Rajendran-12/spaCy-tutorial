{
 "cells": [
  {
   "cell_type": "code",
   "execution_count": 1,
   "source": [
    "import spacy"
   ],
   "outputs": [],
   "metadata": {}
  },
  {
   "cell_type": "code",
   "execution_count": 2,
   "source": [
    "nlp = spacy.load(\"en_core_web_md\")"
   ],
   "outputs": [],
   "metadata": {}
  },
  {
   "cell_type": "code",
   "execution_count": 3,
   "source": [
    "tokens = nlp(\"I am an excellent cook\")"
   ],
   "outputs": [],
   "metadata": {}
  },
  {
   "cell_type": "code",
   "execution_count": 4,
   "source": [
    "for token in tokens:\r\n",
    "    print(token.text,' ',token.has_vector)"
   ],
   "outputs": [
    {
     "output_type": "stream",
     "name": "stdout",
     "text": [
      "I   True\n",
      "am   True\n",
      "an   True\n",
      "excellent   True\n",
      "cook   True\n"
     ]
    }
   ],
   "metadata": {}
  },
  {
   "cell_type": "markdown",
   "source": [
    "You can see that all tokens in above text have a vector. It is because these words are pre-existing or the model has been trained on them. Let’s see what is the result when the text has some non-existent / made up word "
   ],
   "metadata": {}
  },
  {
   "cell_type": "code",
   "execution_count": 5,
   "source": [
    "tokens=nlp(\"I wish to go to hogwarts lolXD \")\r\n",
    "for token in tokens:\r\n",
    "  print(token.text,' ',token.has_vector)"
   ],
   "outputs": [
    {
     "output_type": "stream",
     "name": "stdout",
     "text": [
      "I   True\n",
      "wish   True\n",
      "to   True\n",
      "go   True\n",
      "to   True\n",
      "hogwarts   True\n",
      "lolXD   False\n"
     ]
    }
   ],
   "metadata": {}
  },
  {
   "cell_type": "code",
   "execution_count": 6,
   "source": [
    "# Extract the word Vector\r\n",
    "tokens=nlp(\"I wish to go to hogwarts lolXD \")\r\n",
    "for token in tokens:\r\n",
    "  print(token.text,' ',token.vector_norm)"
   ],
   "outputs": [
    {
     "output_type": "stream",
     "name": "stdout",
     "text": [
      "I   6.4231944\n",
      "wish   5.1652417\n",
      "to   4.74484\n",
      "go   5.05723\n",
      "to   4.74484\n",
      "hogwarts   7.4110312\n",
      "lolXD   0.0\n"
     ]
    }
   ],
   "metadata": {}
  },
  {
   "cell_type": "code",
   "execution_count": 7,
   "source": [
    "# Compute Similarity\r\n",
    "token_1=nlp(\"bad\")\r\n",
    "token_2=nlp(\"terrible\")\r\n",
    "\r\n",
    "similarity_score=token_1.similarity(token_2)\r\n",
    "print(similarity_score)"
   ],
   "outputs": [
    {
     "output_type": "stream",
     "name": "stdout",
     "text": [
      "0.7739191815858104\n"
     ]
    }
   ],
   "metadata": {}
  },
  {
   "cell_type": "markdown",
   "source": [
    "That is how you use the similarity function.\r\n",
    "\r\n",
    "Let me show you an example of how similarity() function on docs can help in text categorization"
   ],
   "metadata": {}
  },
  {
   "cell_type": "code",
   "execution_count": 8,
   "source": [
    "review_1=nlp(' The food was amazing')\r\n",
    "review_2=nlp('The food was excellent')\r\n",
    "review_3=nlp('I did not like the food')\r\n",
    "review_4=nlp('It was very bad experience')\r\n",
    "\r\n",
    "score_1=review_1.similarity(review_2)\r\n",
    "print('Similarity between review 1 and 2',score_1)\r\n",
    "\r\n",
    "score_2=review_3.similarity(review_4)\r\n",
    "print('Similarity between review 3 and 4',score_2)"
   ],
   "outputs": [
    {
     "output_type": "stream",
     "name": "stdout",
     "text": [
      "Similarity between review 1 and 2 0.9566212627033192\n",
      "Similarity between review 3 and 4 0.8461898618188776\n"
     ]
    }
   ],
   "metadata": {}
  },
  {
   "cell_type": "code",
   "execution_count": 9,
   "source": [
    "# Compute Similarity between texts \r\n",
    "pizza=nlp('pizza')\r\n",
    "burger=nlp('burger')\r\n",
    "chair=nlp('chair')\r\n",
    "\r\n",
    "print('Pizza and burger  ',pizza.similarity(burger))\r\n",
    "print('Pizza and chair  ',pizza.similarity(chair))"
   ],
   "outputs": [
    {
     "output_type": "stream",
     "name": "stdout",
     "text": [
      "Pizza and burger   0.7269758865234512\n",
      "Pizza and chair   0.1917966191121549\n"
     ]
    }
   ],
   "metadata": {}
  }
 ],
 "metadata": {
  "orig_nbformat": 4,
  "language_info": {
   "name": "python",
   "version": "3.9.7",
   "mimetype": "text/x-python",
   "codemirror_mode": {
    "name": "ipython",
    "version": 3
   },
   "pygments_lexer": "ipython3",
   "nbconvert_exporter": "python",
   "file_extension": ".py"
  },
  "kernelspec": {
   "name": "python3",
   "display_name": "Python 3.9.7 64-bit ('spacy': venv)"
  },
  "interpreter": {
   "hash": "da7a3f20bd736895ed2701e5b4df063f6abe2bef9c68d91259d0aafe078167d8"
  }
 },
 "nbformat": 4,
 "nbformat_minor": 2
}