{
 "cells": [
  {
   "cell_type": "code",
   "execution_count": 2,
   "source": [
    "import spacy"
   ],
   "outputs": [],
   "metadata": {}
  },
  {
   "cell_type": "code",
   "execution_count": 3,
   "source": [
    "nlp = spacy.load(\"en_core_web_sm\")"
   ],
   "outputs": [],
   "metadata": {}
  },
  {
   "cell_type": "code",
   "execution_count": 4,
   "source": [
    "nlp"
   ],
   "outputs": [
    {
     "output_type": "execute_result",
     "data": {
      "text/plain": [
       "<spacy.lang.en.English at 0x1756cffe310>"
      ]
     },
     "metadata": {},
     "execution_count": 4
    }
   ],
   "metadata": {}
  },
  {
   "cell_type": "code",
   "execution_count": 5,
   "source": [
    "my_text = \"\"\"The economic situation of the country is on edge , as the stock \r\n",
    "market crashed causing loss of millions. Citizens who had their main investment \r\n",
    "in the share-market are facing a great loss. Many companies might lay off \r\n",
    "thousands of people to reduce labor cost\"\"\""
   ],
   "outputs": [],
   "metadata": {}
  },
  {
   "cell_type": "markdown",
   "source": [
    "The Doc Object - sequence of tokens that contains not just the original text but all the results produced by spacy after preprocessing the text."
   ],
   "metadata": {}
  },
  {
   "cell_type": "code",
   "execution_count": 6,
   "source": [
    "doc = nlp(my_text)\r\n",
    "type(doc)"
   ],
   "outputs": [
    {
     "output_type": "execute_result",
     "data": {
      "text/plain": [
       "spacy.tokens.doc.Doc"
      ]
     },
     "metadata": {},
     "execution_count": 6
    }
   ],
   "metadata": {}
  },
  {
   "cell_type": "markdown",
   "source": [
    "Tokenization"
   ],
   "metadata": {}
  },
  {
   "cell_type": "code",
   "execution_count": 7,
   "source": [
    "for token in doc:\r\n",
    "    print(token.text)"
   ],
   "outputs": [
    {
     "output_type": "stream",
     "name": "stdout",
     "text": [
      "The\n",
      "economic\n",
      "situation\n",
      "of\n",
      "the\n",
      "country\n",
      "is\n",
      "on\n",
      "edge\n",
      ",\n",
      "as\n",
      "the\n",
      "stock\n",
      "\n",
      "\n",
      "market\n",
      "crashed\n",
      "causing\n",
      "loss\n",
      "of\n",
      "millions\n",
      ".\n",
      "Citizens\n",
      "who\n",
      "had\n",
      "their\n",
      "main\n",
      "investment\n",
      "\n",
      "\n",
      "in\n",
      "the\n",
      "share\n",
      "-\n",
      "market\n",
      "are\n",
      "facing\n",
      "a\n",
      "great\n",
      "loss\n",
      ".\n",
      "Many\n",
      "companies\n",
      "might\n",
      "lay\n",
      "off\n",
      "\n",
      "\n",
      "thousands\n",
      "of\n",
      "people\n",
      "to\n",
      "reduce\n",
      "labor\n",
      "cost\n"
     ]
    }
   ],
   "metadata": {}
  },
  {
   "cell_type": "markdown",
   "source": [
    "Text Preprocessing"
   ],
   "metadata": {}
  },
  {
   "cell_type": "code",
   "execution_count": 8,
   "source": [
    "for token in doc:\r\n",
    "    print(token.text,'---',token.is_stop,'---',token.is_punct)"
   ],
   "outputs": [
    {
     "output_type": "stream",
     "name": "stdout",
     "text": [
      "The --- True --- False\n",
      "economic --- False --- False\n",
      "situation --- False --- False\n",
      "of --- True --- False\n",
      "the --- True --- False\n",
      "country --- False --- False\n",
      "is --- True --- False\n",
      "on --- True --- False\n",
      "edge --- False --- False\n",
      ", --- False --- True\n",
      "as --- True --- False\n",
      "the --- True --- False\n",
      "stock --- False --- False\n",
      "\n",
      " --- False --- False\n",
      "market --- False --- False\n",
      "crashed --- False --- False\n",
      "causing --- False --- False\n",
      "loss --- False --- False\n",
      "of --- True --- False\n",
      "millions --- False --- False\n",
      ". --- False --- True\n",
      "Citizens --- False --- False\n",
      "who --- True --- False\n",
      "had --- True --- False\n",
      "their --- True --- False\n",
      "main --- False --- False\n",
      "investment --- False --- False\n",
      "\n",
      " --- False --- False\n",
      "in --- True --- False\n",
      "the --- True --- False\n",
      "share --- False --- False\n",
      "- --- False --- True\n",
      "market --- False --- False\n",
      "are --- True --- False\n",
      "facing --- False --- False\n",
      "a --- True --- False\n",
      "great --- False --- False\n",
      "loss --- False --- False\n",
      ". --- False --- True\n",
      "Many --- True --- False\n",
      "companies --- False --- False\n",
      "might --- True --- False\n",
      "lay --- False --- False\n",
      "off --- True --- False\n",
      "\n",
      " --- False --- False\n",
      "thousands --- False --- False\n",
      "of --- True --- False\n",
      "people --- False --- False\n",
      "to --- True --- False\n",
      "reduce --- False --- False\n",
      "labor --- False --- False\n",
      "cost --- False --- False\n"
     ]
    }
   ],
   "metadata": {}
  },
  {
   "cell_type": "code",
   "execution_count": 9,
   "source": [
    "doc_cleaned = [token for token in doc if not token.is_stop and not token.is_punct]"
   ],
   "outputs": [],
   "metadata": {}
  },
  {
   "cell_type": "code",
   "execution_count": 10,
   "source": [
    "for token in doc_cleaned:\r\n",
    "    print(token.text)"
   ],
   "outputs": [
    {
     "output_type": "stream",
     "name": "stdout",
     "text": [
      "economic\n",
      "situation\n",
      "country\n",
      "edge\n",
      "stock\n",
      "\n",
      "\n",
      "market\n",
      "crashed\n",
      "causing\n",
      "loss\n",
      "millions\n",
      "Citizens\n",
      "main\n",
      "investment\n",
      "\n",
      "\n",
      "share\n",
      "market\n",
      "facing\n",
      "great\n",
      "loss\n",
      "companies\n",
      "lay\n",
      "\n",
      "\n",
      "thousands\n",
      "people\n",
      "reduce\n",
      "labor\n",
      "cost\n"
     ]
    }
   ],
   "metadata": {}
  },
  {
   "cell_type": "code",
   "execution_count": null,
   "source": [],
   "outputs": [],
   "metadata": {}
  }
 ],
 "metadata": {
  "orig_nbformat": 4,
  "language_info": {
   "name": "python",
   "version": "3.9.7",
   "mimetype": "text/x-python",
   "codemirror_mode": {
    "name": "ipython",
    "version": 3
   },
   "pygments_lexer": "ipython3",
   "nbconvert_exporter": "python",
   "file_extension": ".py"
  },
  "kernelspec": {
   "name": "python3",
   "display_name": "Python 3.9.7 64-bit ('spacy': venv)"
  },
  "interpreter": {
   "hash": "da7a3f20bd736895ed2701e5b4df063f6abe2bef9c68d91259d0aafe078167d8"
  }
 },
 "nbformat": 4,
 "nbformat_minor": 2
}